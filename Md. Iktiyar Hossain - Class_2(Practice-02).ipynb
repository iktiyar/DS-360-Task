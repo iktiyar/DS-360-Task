{
 "cells": [
  {
   "cell_type": "markdown",
   "metadata": {
    "id": "2Yeb66OvFRiP"
   },
   "source": [
    "### `Problem 1` - Print the following pattern. Write a program to use for loop to print the following reverse number pattern.\n",
    "\n",
    "```bash\n",
    "5 4 3 2 1\n",
    "4 3 2 1\n",
    "3 2 1\n",
    "2 1\n",
    "1\n",
    "```"
   ]
  },
  {
   "cell_type": "code",
   "execution_count": 4,
   "metadata": {
    "id": "I_rywD-UFTkY"
   },
   "outputs": [
    {
     "name": "stdout",
     "output_type": "stream",
     "text": [
      "5 4 3 2 1 \n",
      "4 3 2 1 \n",
      "3 2 1 \n",
      "2 1 \n",
      "1 \n"
     ]
    }
   ],
   "source": [
    "# Code here\n",
    "for i in range(5, 0, -1):\n",
    "    for j in range(i, 0, -1):\n",
    "        print(j, end=\" \")\n",
    "    print()  # Move to the next line after each row\n"
   ]
  },
  {
   "cell_type": "markdown",
   "metadata": {
    "id": "n0baB62wFVV5"
   },
   "source": [
    "### `Problem 2`: Print the following pattern.\n",
    "\n",
    "```bash\n",
    "*\n",
    "* *\n",
    "* * *\n",
    "* * * *\n",
    "* * * * *\n",
    "* * * *\n",
    "* * *\n",
    "* *\n",
    "*\n",
    "```"
   ]
  },
  {
   "cell_type": "code",
   "execution_count": 5,
   "metadata": {
    "id": "wTD92u-bFbVT"
   },
   "outputs": [
    {
     "name": "stdout",
     "output_type": "stream",
     "text": [
      "* \n",
      "* * \n",
      "* * * \n",
      "* * * * \n",
      "* * * * * \n",
      "* * * * \n",
      "* * * \n",
      "* * \n",
      "* \n"
     ]
    }
   ],
   "source": [
    "# Code here\n",
    "for i in range(1, 6):\n",
    "    print(\"* \" * i)\n",
    "for i in range(4, 0, -1):\n",
    "    print(\"* \" * i)\n"
   ]
  },
  {
   "cell_type": "markdown",
   "metadata": {
    "id": "M7MzBABdFc8b"
   },
   "source": [
    "### `Problem 3`:Write a program to pring the following pattern\n",
    "\n",
    "        *\n",
    "      * * *\n",
    "    * * * * *\n",
    "   * * * * * * *\n",
    "* * * * * * * * *\n"
   ]
  },
  {
   "cell_type": "code",
   "execution_count": 6,
   "metadata": {
    "id": "ul-tJ0meF2Jr"
   },
   "outputs": [
    {
     "name": "stdout",
     "output_type": "stream",
     "text": [
      "    * \n",
      "  * * * \n",
      "* * * * * \n"
     ]
    }
   ],
   "source": [
    "# Code here\n",
    "rows = 3\n",
    "for i in range(1, rows + 1):\n",
    "    print(\"  \" * (rows - i), end=\"\")\n",
    "    print(\"* \" * (2 * i - 1))\n"
   ]
  },
  {
   "cell_type": "markdown",
   "metadata": {
    "id": "gU4m8eC3GHqH"
   },
   "source": [
    "### `Problem 4`:Write a program to print the following pattern\n",
    "\n",
    "1\n",
    "\n",
    "2 1\n",
    "\n",
    "3 2 1\n",
    "\n",
    "4 3 2 1\n",
    "\n",
    "5 4 3 2 1"
   ]
  },
  {
   "cell_type": "code",
   "execution_count": 7,
   "metadata": {
    "id": "HfGPUtmJGQf6"
   },
   "outputs": [
    {
     "name": "stdout",
     "output_type": "stream",
     "text": [
      "1 \n",
      "2 1 \n",
      "3 2 1 \n",
      "4 3 2 1 \n",
      "5 4 3 2 1 \n"
     ]
    }
   ],
   "source": [
    "# Code here\n",
    "for i in range(1, 6):\n",
    "    for j in range(i, 0, -1):\n",
    "        print(j, end=\" \")\n",
    "    print() \n"
   ]
  },
  {
   "cell_type": "markdown",
   "metadata": {
    "id": "98TZ1X0hGSI-"
   },
   "source": [
    "### `Problem 5`: Write a Python Program to Find the Sum of the Series till the nth term:<br>\n",
    "1 + x^2/2 + x^3/3 + … x^n/n<br>\n",
    "n will be provided by the user"
   ]
  },
  {
   "cell_type": "code",
   "execution_count": 8,
   "metadata": {
    "id": "3ZWu99XUGuhU"
   },
   "outputs": [
    {
     "name": "stdout",
     "output_type": "stream",
     "text": [
      "Enter the value of x: 5\n",
      "Enter the value of n: 4\n",
      "The sum of the series is: 211.41666666666666\n"
     ]
    }
   ],
   "source": [
    "# Code here\n",
    "x = float(input(\"Enter the value of x: \"))\n",
    "n = int(input(\"Enter the value of n: \"))\n",
    "series_sum = 1.0\n",
    "for i in range(2, n + 1):\n",
    "    term = (x ** i) / i\n",
    "    series_sum += term\n",
    "print(f\"The sum of the series is: {series_sum}\")\n"
   ]
  },
  {
   "cell_type": "markdown",
   "metadata": {
    "id": "matpUyxTH4hQ"
   },
   "source": [
    "### `Problem 6` - Find the sum of the series upto n terms.\n",
    "Write a program to calculate the sum of series up to n term. For example, if n =5 the series will become 2 + 22 + 222 + 2222 + 22222 = 24690. Take the user input and then calculate. And the output style should match which is given in the example.\n",
    "\n",
    "**Example 1:**\n",
    "\n",
    "`Input:`\n",
    "```bash\n",
    "5\n",
    "```\n",
    "\n",
    "`Output:`\n",
    "\n",
    "```bash\n",
    "2+22+222+2222+22222\n",
    "Sum of above series is: 24690\n",
    "```"
   ]
  },
  {
   "cell_type": "code",
   "execution_count": 9,
   "metadata": {
    "id": "jL68XMU8H3xM"
   },
   "outputs": [
    {
     "name": "stdout",
     "output_type": "stream",
     "text": [
      "Enter the number of terms: 4\n",
      "2+22+222+2222\n",
      "Sum of above series is: 2468\n"
     ]
    }
   ],
   "source": [
    "# Code here\n",
    "n = int(input(\"Enter the number of terms: \"))\n",
    "term = 0\n",
    "series_sum = 0\n",
    "series_str = \"\"\n",
    "\n",
    "for i in range(1, n + 1):\n",
    "    term = term * 10 + 2  \n",
    "    series_sum += term\n",
    "    series_str += str(term)\n",
    "    if i != n:\n",
    "        series_str += \"+\"\n",
    "print(series_str)\n",
    "print(f\"Sum of above series is: {series_sum}\")\n"
   ]
  },
  {
   "cell_type": "markdown",
   "metadata": {
    "id": "l7Jpeuq7IeT-"
   },
   "source": [
    "### `Problem 7`: Write a program to print all the unique combinations of 1,2,3 and 4\n",
    "\n",
    "`Output`:\n",
    "```\n",
    "1 2 3 4\n",
    "1 2 4 3\n",
    "1 3 2 4\n",
    "1 3 4 2\n",
    "1 4 2 3\n",
    "1 4 3 2\n",
    "2 1 3 4\n",
    "2 1 4 3\n",
    "2 3 1 4\n",
    "2 3 4 1\n",
    "2 4 1 3\n",
    ".\n",
    ".\n",
    "and so on\n",
    "```"
   ]
  },
  {
   "cell_type": "code",
   "execution_count": 10,
   "metadata": {
    "id": "Jiy1u7PvJRbb"
   },
   "outputs": [
    {
     "name": "stdout",
     "output_type": "stream",
     "text": [
      "1 2 3 4\n",
      "1 2 4 3\n",
      "1 3 2 4\n",
      "1 3 4 2\n",
      "1 4 2 3\n",
      "1 4 3 2\n",
      "2 1 3 4\n",
      "2 1 4 3\n",
      "2 3 1 4\n",
      "2 3 4 1\n",
      "2 4 1 3\n",
      "2 4 3 1\n",
      "3 1 2 4\n",
      "3 1 4 2\n",
      "3 2 1 4\n",
      "3 2 4 1\n",
      "3 4 1 2\n",
      "3 4 2 1\n",
      "4 1 2 3\n",
      "4 1 3 2\n",
      "4 2 1 3\n",
      "4 2 3 1\n",
      "4 3 1 2\n",
      "4 3 2 1\n"
     ]
    }
   ],
   "source": [
    "# Code here\n",
    "import itertools\n",
    "numbers = [1, 2, 3, 4]\n",
    "perms = itertools.permutations(numbers)\n",
    "for p in perms:\n",
    "    print(\" \".join(map(str, p)))"
   ]
  },
  {
   "cell_type": "markdown",
   "metadata": {},
   "source": [
    "### Solved by Md. Iktiyar Hossain"
   ]
  },
  {
   "cell_type": "code",
   "execution_count": null,
   "metadata": {},
   "outputs": [],
   "source": []
  }
 ],
 "metadata": {
  "colab": {
   "provenance": []
  },
  "kernelspec": {
   "display_name": "Python 3 (ipykernel)",
   "language": "python",
   "name": "python3"
  },
  "language_info": {
   "codemirror_mode": {
    "name": "ipython",
    "version": 3
   },
   "file_extension": ".py",
   "mimetype": "text/x-python",
   "name": "python",
   "nbconvert_exporter": "python",
   "pygments_lexer": "ipython3",
   "version": "3.11.3"
  }
 },
 "nbformat": 4,
 "nbformat_minor": 1
}
