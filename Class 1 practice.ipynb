{
 "cells": [
  {
   "cell_type": "markdown",
   "metadata": {
    "id": "A05OG15VqOPF"
   },
   "source": [
    "# Task : Class 1\n",
    "Solve these questions own your own and try to test yourself what you have learned in the session.\n",
    "\n",
    "Happy Learning!"
   ]
  },
  {
   "cell_type": "markdown",
   "metadata": {
    "id": "2doIXf8bqe9_"
   },
   "source": [
    "### Q1 :- Print the given strings as per stated format.\n",
    "\n",
    "**Given strings**:\n",
    "```\n",
    "\"Machine\" \"Learning\" \"With Python and R\" \"Program\"\n",
    "\"By\" \"Datasolution360\"\n",
    "```\n",
    "**Output**:\n",
    "```\n",
    "Machine-Learning-With Python and R-Program-Conducted-By-Datasolution360\n",
    "```\n",
    "\n",
    "Concept- [Seperator and End]"
   ]
  },
  {
   "cell_type": "code",
   "execution_count": 23,
   "metadata": {},
   "outputs": [],
   "source": [
    "import numpy as np\n",
    "import math as m"
   ]
  },
  {
   "cell_type": "code",
   "execution_count": 2,
   "metadata": {
    "id": "-em6d3KErDtp"
   },
   "outputs": [
    {
     "name": "stdout",
     "output_type": "stream",
     "text": [
      "Machine-Learning-With Python and R-Program-Conducted-By-Datasolution360\n"
     ]
    }
   ],
   "source": [
    "# Write your code here\n",
    "print(\"Machine\", \"Learning\" ,\"With Python and R\", \"Program\",\"Conducted\",\"By\",\"Datasolution360\",sep='-')"
   ]
  },
  {
   "cell_type": "markdown",
   "metadata": {
    "id": "1KUpN7ZTrC3_"
   },
   "source": [
    "### Q2:- Write a program that will convert celsius value to fahrenheit."
   ]
  },
  {
   "cell_type": "code",
   "execution_count": 8,
   "metadata": {
    "id": "yxKYhYQiqWfj"
   },
   "outputs": [
    {
     "data": {
      "text/plain": [
       "212.0"
      ]
     },
     "execution_count": 8,
     "metadata": {},
     "output_type": "execute_result"
    }
   ],
   "source": [
    "# Write your code here\n",
    "def C_to_F(c):\n",
    "    f = (9*c/5) + 32\n",
    "    return f\n",
    "C_to_F(100)"
   ]
  },
  {
   "cell_type": "markdown",
   "metadata": {
    "id": "RLrOBBJurLB2"
   },
   "source": [
    "### Q3:- Take 2 numbers as input from the user.Write a program to swap the numbers without using any special python syntax."
   ]
  },
  {
   "cell_type": "code",
   "execution_count": 11,
   "metadata": {
    "id": "yPn7if0TrJ4F"
   },
   "outputs": [
    {
     "name": "stdout",
     "output_type": "stream",
     "text": [
      "Enter First Number:54\n",
      "Enter Second Number:67\n",
      "\n",
      "Before Swapping\n",
      "First Number: 54\n",
      "Second Number: 67\n",
      "\n",
      "After Swapping\n",
      "First Number: 67\n",
      "Second Number: 54\n"
     ]
    }
   ],
   "source": [
    "# Write your code here\n",
    "num1 = int(input(\"Enter First Number:\" ))\n",
    "num2 = int(input(\"Enter Second Number:\" ))\n",
    "print(\"\")\n",
    "print(\"Before Swapping\")\n",
    "print(\"First Number:\", num1)\n",
    "print(\"Second Number:\", num2)\n",
    "\n",
    "temp = num1\n",
    "num1 = num2\n",
    "num2 = temp\n",
    "print(\"\")\n",
    "print(\"After Swapping\")\n",
    "print(\"First Number:\", num1)\n",
    "print(\"Second Number:\", num2)"
   ]
  },
  {
   "cell_type": "markdown",
   "metadata": {
    "id": "VLrhg-FRsHjR"
   },
   "source": [
    "### Q4:- Write a program to find the simple interest when the value of principle,rate of interest and time period is provided by the user.\n"
   ]
  },
  {
   "cell_type": "code",
   "execution_count": 3,
   "metadata": {
    "id": "s40DlReZsTmY"
   },
   "outputs": [
    {
     "name": "stdout",
     "output_type": "stream",
     "text": [
      "Enter Principal Amount:600\n",
      "Enter Rate of Interest per Annum:4\n",
      "Enter time period (in years):2\n",
      "Simple Interest after 2.0 years is 48.0\n"
     ]
    }
   ],
   "source": [
    "# Write your code here\n",
    "p = float(input(\"Enter Principal Amount:\"))\n",
    "r = float(input(\"Enter Rate of Interest per Annum:\"))\n",
    "t = float(input(\"Enter time period (in years):\"))\n",
    "i = p*r*t/100\n",
    "print(f\"Simple Interest after {t} years is {i}\")"
   ]
  },
  {
   "cell_type": "markdown",
   "metadata": {
    "id": "LMy0BTUktYKa"
   },
   "source": [
    "### Q5:- Write a program that will tell the number of dogs and chicken are there when the user will provide the value of total heads and legs.\n",
    "\n",
    "For example:\n",
    "Input:\n",
    "heads -> 4\n",
    "legs -> 12\n",
    "<br>\n",
    "Output:\n",
    "dogs -> 2\n",
    "chicken -> 2\n",
    "\n",
    "\n",
    "\n"
   ]
  },
  {
   "cell_type": "code",
   "execution_count": 16,
   "metadata": {
    "id": "XSBvJoA4tXaG"
   },
   "outputs": [
    {
     "name": "stdout",
     "output_type": "stream",
     "text": [
      "Enter the number head:4\n",
      "Enter the number legs:12\n",
      "dogs -> 2 chicken -> 2\n"
     ]
    }
   ],
   "source": [
    "# Write your code here\n",
    "head_count = int(input(\"Enter the number head:\"))\n",
    "leg_count = int(input(\"Enter the number legs:\"))\n",
    "coef  = np.array([[1,1],\n",
    "                  [2,4]])\n",
    "val = np.array([[head_count],\n",
    "                [leg_count]])\n",
    "sol = np.dot(np.linalg.inv(coef),val)\n",
    "d = int(sol[1].item())\n",
    "c = int(sol[0].item())\n",
    "print(f\"dogs -> {d} chicken -> {c}\")"
   ]
  },
  {
   "cell_type": "markdown",
   "metadata": {
    "id": "gJ7C5kZYt4BP"
   },
   "source": [
    "### Q6:- Write a program to find the sum of squares of first n natural numbers where n will be provided by the user."
   ]
  },
  {
   "cell_type": "code",
   "execution_count": 17,
   "metadata": {
    "id": "_tHsmEHzt2nX"
   },
   "outputs": [
    {
     "name": "stdout",
     "output_type": "stream",
     "text": [
      "Enter a number: 4\n",
      "Sum of squares of first 4 natural numbers is 30.0\n"
     ]
    }
   ],
   "source": [
    "# Write your code here\n",
    "n = int(input(\"Enter a number: \"))\n",
    "sum_of_squares = n*(n+1)*(2*n+1)/6\n",
    "print(f\"Sum of squares of first {n} natural numbers is {sum_of_squares}\")"
   ]
  },
  {
   "cell_type": "markdown",
   "metadata": {
    "id": "FHrMM7g-yG1h"
   },
   "source": [
    "### Q7:- Given the first 2 terms of an Arithmetic Series.Find the Nth term of the series. Assume all inputs are provided by the user."
   ]
  },
  {
   "cell_type": "code",
   "execution_count": 18,
   "metadata": {
    "id": "go4_kmZmyVSx"
   },
   "outputs": [
    {
     "name": "stdout",
     "output_type": "stream",
     "text": [
      "Enter the first term: 5\n",
      "Enter the second term: 3\n",
      "Enter the value of N: 8\n",
      "The 8th term of the arithmetic series is: -9\n"
     ]
    }
   ],
   "source": [
    "# Write your code here\n",
    "a1 = int(input(\"Enter the first term: \"))\n",
    "a2 = int(input(\"Enter the second term: \"))\n",
    "n = int(input(\"Enter the value of N: \"))\n",
    "d = a2 - a1\n",
    "an = a1 + (n - 1) * d\n",
    "print(f\"The {n}th term of the arithmetic series is: {an}\")"
   ]
  },
  {
   "cell_type": "markdown",
   "metadata": {
    "id": "QgyRX_es1oum"
   },
   "source": [
    "### Q8:- Given 2 fractions, find the sum of those 2 fractions.Take the numerator and denominator values of the fractions from the user."
   ]
  },
  {
   "cell_type": "code",
   "execution_count": 22,
   "metadata": {
    "id": "X05xqFS1yW16"
   },
   "outputs": [
    {
     "name": "stdout",
     "output_type": "stream",
     "text": [
      "Enter numerator of first fraction:5\n",
      "Enter denominator of first fraction:7\n",
      "Enter numerator of second fraction:2\n",
      "Enter denominator of second fraction:9\n",
      "Answer is 0.94\n"
     ]
    }
   ],
   "source": [
    "# Write your code here\n",
    "n1 = int(input(\"Enter numerator of first fraction:\"))\n",
    "d1 = int(input(\"Enter denominator of first fraction:\"))\n",
    "n2 = int(input(\"Enter numerator of second fraction:\"))\n",
    "d2 = int(input(\"Enter denominator of second fraction:\"))\n",
    "sol = (n1/d1)+(n2/d2)\n",
    "print(f\"Answer is {round(sol,2)}\")"
   ]
  },
  {
   "cell_type": "markdown",
   "metadata": {
    "id": "eaql38ln13u7"
   },
   "source": [
    "### Q9:- Given the height, width and breadth of a milk tank, you have to find out how many glasses of milk can be obtained? Assume all the inputs are provided by the user.\n",
    "\n",
    "\n",
    "\n",
    "Input:<br>\n",
    "Dimensions of the milk tank<br>\n",
    "H = 20cm, L = 20cm, B = 20cm\n",
    "<br><br>\n",
    "Dimensions of the glass<br>\n",
    "h = 3cm, r = 1cm"
   ]
  },
  {
   "cell_type": "code",
   "execution_count": 25,
   "metadata": {
    "id": "FePZqno74eWv"
   },
   "outputs": [
    {
     "name": "stdout",
     "output_type": "stream",
     "text": [
      "Provide Dimensions(in cm) of the milk tank\n",
      "Height:20\n",
      "Lenth:20\n",
      "Breadth:20\n",
      "\n",
      "Provide Dimensions(in cm) of glasses\n",
      "Height:3\n",
      "Radius:1\n",
      "Number of glasses of milk can be obtained 848\n"
     ]
    }
   ],
   "source": [
    "# Write your code here\n",
    "print(\"Provide Dimensions(in cm) of the milk tank\")\n",
    "H = float(input(\"Height:\"))\n",
    "W = float(input(\"Lenth:\"))\n",
    "B = float(input(\"Breadth:\"))\n",
    "print()\n",
    "print(\"Provide Dimensions(in cm) of glasses\")\n",
    "h = float(input(\"Height:\"))\n",
    "r = float(input(\"Radius:\"))\n",
    "v_t = H*W*B\n",
    "v_g = m.pi*(r**2)*h\n",
    "n = int(v_t/v_g)\n",
    "print(f\"Number of glasses of milk can be obtained {n}\")"
   ]
  },
  {
   "cell_type": "markdown",
   "metadata": {},
   "source": [
    "### Solved by Md. Iktiyar Hossain"
   ]
  }
 ],
 "metadata": {
  "colab": {
   "provenance": []
  },
  "kernelspec": {
   "display_name": "Python 3 (ipykernel)",
   "language": "python",
   "name": "python3"
  },
  "language_info": {
   "codemirror_mode": {
    "name": "ipython",
    "version": 3
   },
   "file_extension": ".py",
   "mimetype": "text/x-python",
   "name": "python",
   "nbconvert_exporter": "python",
   "pygments_lexer": "ipython3",
   "version": "3.11.3"
  }
 },
 "nbformat": 4,
 "nbformat_minor": 1
}
