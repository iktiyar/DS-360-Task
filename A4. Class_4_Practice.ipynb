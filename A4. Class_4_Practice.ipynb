{
 "cells": [
  {
   "cell_type": "markdown",
   "metadata": {
    "id": "limD5IAfl-tz"
   },
   "source": [
    "# **Tuple**\n"
   ]
  },
  {
   "cell_type": "markdown",
   "metadata": {
    "id": "x0psnUiu2ZVp"
   },
   "source": [
    "### `Q1`: Check is tuples are same or not?\n",
    "Two tuples would be same if both tuples have same element at same index\n",
    "```\n",
    "t1 = (1,2,3,0)\n",
    "t2 = (0,1,2,3)\n",
    "\n",
    "t1 and t2 are not same\n",
    "```"
   ]
  },
  {
   "cell_type": "code",
   "execution_count": 1,
   "metadata": {
    "id": "JMVw9EhSrPEc"
   },
   "outputs": [
    {
     "data": {
      "text/plain": [
       "False"
      ]
     },
     "execution_count": 1,
     "metadata": {},
     "output_type": "execute_result"
    }
   ],
   "source": [
    "# write your code here\n",
    "t1 = (1,2,3,0)\n",
    "t2 = (0,1,2,3)\n",
    "t1==t2"
   ]
  },
  {
   "cell_type": "markdown",
   "metadata": {
    "id": "aZ4rObHK4fCN"
   },
   "source": [
    "### `Q2`: Count no of tuples, list and set from a list\n",
    "```\n",
    "list1 = [{'hi', 'bye'},{'Geeks', 'forGeeks'},('a', 'b'),['hi', 'bye'],['a', 'b']]\n",
    "\n",
    "```\n",
    "`Output:`\n",
    "\n",
    "```\n",
    "List-2\n",
    "Set-2\n",
    "Tuples-1\n",
    "```"
   ]
  },
  {
   "cell_type": "code",
   "execution_count": 2,
   "metadata": {
    "id": "g_Bnuczk69tG"
   },
   "outputs": [
    {
     "name": "stdout",
     "output_type": "stream",
     "text": [
      "List- 2\n",
      "Set- 2\n",
      "Tuples- 1\n"
     ]
    }
   ],
   "source": [
    "# write your code here\n",
    "list1 = [{'hi', 'bye'}, {'Geeks', 'forGeeks'}, ('a', 'b'), ['hi', 'bye'], ['a', 'b']]\n",
    "\n",
    "count_list = 0\n",
    "count_set = 0\n",
    "count_tuple = 0\n",
    "\n",
    "for item in list1:\n",
    "    if type(item) == list:\n",
    "        count_list += 1\n",
    "    elif type(item) == set:\n",
    "        count_set += 1\n",
    "    elif type(item) == tuple:\n",
    "        count_tuple += 1\n",
    "\n",
    "print(\"List-\", count_list)\n",
    "print(\"Set-\", count_set)\n",
    "print(\"Tuples-\", count_tuple)"
   ]
  },
  {
   "cell_type": "markdown",
   "metadata": {
    "id": "jInFNuit8hf1"
   },
   "source": [
    "### `Q3`: Shortlist Students for a Job role\n",
    "Ask user to input students record and store in tuples for each record. Then Ask user to input three things he wants in the candidate- Primary Skill, Higher Education, Year of Graduation.\n",
    "\n",
    "Show every students record in form of tuples if matches all required criteria.\n",
    "\n",
    "It is assumed that there will be only one primry skill.\n",
    "\n",
    "If no such candidate found, print `No such candidate`\n",
    "\n",
    "`Input:`\n",
    "```\n",
    "Enter No of records- 2\n",
    "Enter Details of student-1\n",
    "Enter Student name- Alice\n",
    "Enter Higher Education- B.Tech\n",
    "Enter Primary Skill- Python\n",
    "Enter Year of Graduation- 2022\n",
    "Enter Details of student-2\n",
    "Enter Student name- Ponian\n",
    "Enter Higher Education- B.Sc.\n",
    "Enter Primary Skill- C++\n",
    "Enter Year of Graduation- 2020\n",
    "\n",
    "Enter Job Role Requirement\n",
    "Enter Skill- Python\n",
    "Enter Higher Education- B.Tech\n",
    "Enter Year of Graduation- 2022\n",
    "```\n",
    "\n",
    "`Output`\n",
    "```\n",
    "('Alice', 'B.tech', 'Python', '2022')\n",
    "```\n"
   ]
  },
  {
   "cell_type": "code",
   "execution_count": 5,
   "metadata": {
    "id": "erh9QZaerSHk"
   },
   "outputs": [
    {
     "name": "stdout",
     "output_type": "stream",
     "text": [
      "Enter No of records- 1\n",
      "Enter Details of student-1\n",
      "Enter Student name- Zahid\n",
      "Enter Higher Education- BSc\n",
      "Enter Primary Skill- Python\n",
      "Enter Year of Graduation- 2025\n",
      "\n",
      "Enter Job Role Requirement\n",
      "Enter Skill- Python\n",
      "Enter Higher Education- BSc\n",
      "Enter Year of Graduation- 2025\n",
      "('Zahid', 'BSc', 'Python', '2025')\n"
     ]
    }
   ],
   "source": [
    "# write your code here\n",
    "\n",
    "n = int(input(\"Enter No of records- \"))\n",
    "\n",
    "students = []\n",
    "\n",
    "for i in range(n):\n",
    "    print(f\"Enter Details of student-{i+1}\")\n",
    "    name = input(\"Enter Student name- \")\n",
    "    education = input(\"Enter Higher Education- \")\n",
    "    skill = input(\"Enter Primary Skill- \")\n",
    "    graduation_year = input(\"Enter Year of Graduation- \")\n",
    "    \n",
    "    student = (name, education, skill, graduation_year)\n",
    "    students.append(student)\n",
    "\n",
    "print(\"\\nEnter Job Role Requirement\")\n",
    "req_skill = input(\"Enter Skill- \")\n",
    "req_education = input(\"Enter Higher Education- \")\n",
    "req_year = input(\"Enter Year of Graduation- \")\n",
    "\n",
    "found = False\n",
    "for student in students:\n",
    "    if (student[1] == req_education and \n",
    "        student[2] == req_skill and \n",
    "        student[3] == req_year):\n",
    "        print(student)\n",
    "        found = True\n",
    "\n",
    "if not found:\n",
    "    print(\"No such candidate\")"
   ]
  },
  {
   "cell_type": "markdown",
   "metadata": {
    "id": "l4hLvwD2BeIN"
   },
   "source": [
    "# **Set**"
   ]
  },
  {
   "cell_type": "markdown",
   "metadata": {
    "id": "zCX0Sk2IBfu8"
   },
   "source": [
    "### `Q1:` Write a program to find set of common elements in three lists using sets.\n",
    "```\n",
    "Input : ar1 = [1, 5, 10, 20, 40, 80]\n",
    "        ar2 = [6, 7, 20, 80, 100]\n",
    "        ar3 = [3, 4, 15, 20, 30, 70, 80, 120]\n",
    "\n",
    "Output : [80, 20]\n",
    "```"
   ]
  },
  {
   "cell_type": "code",
   "execution_count": 6,
   "metadata": {
    "id": "rqATYpBUrUQU"
   },
   "outputs": [
    {
     "name": "stdout",
     "output_type": "stream",
     "text": [
      "Output: [80, 20]\n"
     ]
    }
   ],
   "source": [
    "# write your code here\n",
    "ar1 = [1, 5, 10, 20, 40, 80]\n",
    "ar2 = [6, 7, 20, 80, 100]\n",
    "ar3 = [3, 4, 15, 20, 30, 70, 80, 120]\n",
    "\n",
    "set1 = set(ar1)\n",
    "set2 = set(ar2)\n",
    "set3 = set(ar3)\n",
    "\n",
    "common_elements = set1 & set2 & set3\n",
    "\n",
    "result = list(common_elements)\n",
    "\n",
    "print(\"Output:\", result)"
   ]
  },
  {
   "cell_type": "markdown",
   "metadata": {
    "id": "0gOVS-0yCYrK"
   },
   "source": [
    "### `Q2:` Write a program to count unique number of vowels using sets in a given string. Lowercase and upercase vowels will be taken as different.\n",
    "\n",
    "`Input:`\n",
    "```\n",
    "Str1 = \"Artificial Intelligence and Machine Learning are transforming the wOrld\"\n",
    "```\n",
    "`Output:`\n",
    "```\n",
    "No of unique vowels-6\n",
    "```"
   ]
  },
  {
   "cell_type": "code",
   "execution_count": 7,
   "metadata": {
    "id": "0vAlEAOzDihm"
   },
   "outputs": [
    {
     "name": "stdout",
     "output_type": "stream",
     "text": [
      "No of unique vowels- 7\n"
     ]
    }
   ],
   "source": [
    "# write your code here\n",
    "str1 = \"Artificial Intelligence and Machine Learning are transforming the wOrld\"\n",
    "\n",
    "vowels = {'a', 'e', 'i', 'o', 'u', 'A', 'E', 'I', 'O', 'U'}\n",
    "\n",
    "unique_vowels = {char for char in str1 if char in vowels}\n",
    "\n",
    "print(\"No of unique vowels-\", len(unique_vowels))"
   ]
  },
  {
   "cell_type": "markdown",
   "metadata": {
    "id": "fqLZxiarEne5"
   },
   "source": [
    "### `Q3:` Write a program to Check if a given string is binary string of or not.\n",
    "\n",
    "A string is said to be binary if it's consists of only two unique characters.\n",
    "\n",
    "Take string input from user.\n",
    "\n",
    "```\n",
    "Input: str = \"01010101010\"\n",
    "Output: Yes\n",
    "\n",
    "Input: str = \"1222211\"\n",
    "Output: Yes\n",
    "\n",
    "Input: str = \"DataSolution360\"\n",
    "Output: No\n",
    "```"
   ]
  },
  {
   "cell_type": "code",
   "execution_count": 9,
   "metadata": {
    "id": "5M5v8LoYrXkE"
   },
   "outputs": [
    {
     "name": "stdout",
     "output_type": "stream",
     "text": [
      "Enter a string: 878788787\n",
      "Yes\n"
     ]
    }
   ],
   "source": [
    "# write your code here\n",
    "str1 = input(\"Enter a string: \")\n",
    "\n",
    "unique_chars = set(str1)\n",
    "\n",
    "if len(unique_chars) == 2:\n",
    "    print(\"Yes\")\n",
    "else:\n",
    "    print(\"No\")"
   ]
  },
  {
   "cell_type": "markdown",
   "metadata": {
    "id": "T_Re21BdndOz"
   },
   "source": [
    "\n",
    "### `Q4`: Intersection of two sets. Intersection of two sets means we need to take all those elements which are common to both of the initial sets and store them into another set. Use **set operations**.\n",
    "\n",
    "**Example 1:**\n",
    "\n",
    "Input:\n",
    "```bash\n",
    "set1 = {15, 9, 10, 56, 23, 78, 5, 4, 9}\n",
    "set2 = {9, 4, 5, 36, 47, 26, 10, 45, 87}\n",
    "```\n",
    "\n",
    "Output:\n",
    "```bash\n",
    "{9, 10, 4, 5}\n",
    "```\n",
    "\n",
    "**Example 2:**\n",
    "\n",
    "Input:\n",
    "```bash\n",
    "set1 = {4, 9, 1, 17, 11, 26, 28, 54, 69}\n",
    "set2 = {9, 9, 74, 21, 45, 11, 63, 28, 26}\n",
    "```\n",
    "\n",
    "Output:\n",
    "```bash\n",
    "{9, 11, 26, 28}\n",
    "```"
   ]
  },
  {
   "cell_type": "code",
   "execution_count": 11,
   "metadata": {
    "id": "nWnL25ftoLVT"
   },
   "outputs": [
    {
     "name": "stdout",
     "output_type": "stream",
     "text": [
      "{9, 10, 4, 5}\n"
     ]
    }
   ],
   "source": [
    "# write your code here\n",
    "set1 = {15, 9, 10, 56, 23, 78, 5, 4, 9}\n",
    "set2 = {9, 4, 5, 36, 47, 26, 10, 45, 87}\n",
    "\n",
    "intersection_set = set1 & set2  \n",
    "\n",
    "print(intersection_set)"
   ]
  },
  {
   "cell_type": "code",
   "execution_count": 12,
   "metadata": {},
   "outputs": [
    {
     "name": "stdout",
     "output_type": "stream",
     "text": [
      "{9, 26, 11, 28}\n"
     ]
    }
   ],
   "source": [
    "set1 = {4, 9, 1, 17, 11, 26, 28, 54, 69}\n",
    "set2 = {9, 9, 74, 21, 45, 11, 63, 28, 26}\n",
    "\n",
    "intersection_set = set1 & set2\n",
    "print(intersection_set)"
   ]
  },
  {
   "cell_type": "markdown",
   "metadata": {
    "id": "tD2RSYn1a8oA"
   },
   "source": [
    "# **Dictionary**"
   ]
  },
  {
   "cell_type": "markdown",
   "metadata": {
    "id": "7tUjHhcPbQzQ"
   },
   "source": [
    "### `Q1`: Key with maximum unique values\n",
    "\n",
    "Given a dictionary with values as lists, extract the key whose value has the most unique values.\n",
    "\n",
    "**Example 1:**\n",
    "\n",
    "Input:\n",
    "```bash\n",
    "test_dict = {\"Python\" : [5, 7, 9, 4, 0], \"is\" : [6, 7, 4, 3, 3], \"Awesome\" : [9, 9, 6, 5, 5]}\n",
    "```\n",
    "\n",
    "Output:\n",
    "```bash\n",
    "Python\n",
    "```\n",
    "\n",
    "**Example 2:**\n",
    "\n",
    "Input:\n",
    "```bash\n",
    "test_dict = {\"Python\" : [5, 7, 7, 7, 7], \"is\" : [6, 7, 7, 7], \"Awesome\" : [9, 9, 6, 5, 5]}\n",
    "```\n",
    "\n",
    "Output:\n",
    "```bash\n",
    "Awesome\n",
    "```\n",
    "\n",
    "Let me know if you need further adjustments! 😊"
   ]
  },
  {
   "cell_type": "code",
   "execution_count": 14,
   "metadata": {
    "id": "N8KHX863lNxL"
   },
   "outputs": [
    {
     "name": "stdout",
     "output_type": "stream",
     "text": [
      "Python\n"
     ]
    }
   ],
   "source": [
    "# write your code here\n",
    "\n",
    "test_dict = {\n",
    "    \"Python\": [5, 7, 9, 4, 0],\n",
    "    \"is\": [6, 7, 4, 3, 3],\n",
    "    \"Awesome\": [9, 9, 6, 5, 5]\n",
    "}\n",
    "\n",
    "max_key = None\n",
    "max_unique_count = 0\n",
    "\n",
    "for key, value_list in test_dict.items():\n",
    "    unique_count = len(set(value_list))  \n",
    "    if unique_count > max_unique_count:\n",
    "        max_unique_count = unique_count\n",
    "        max_key = key\n",
    "\n",
    "print(max_key)"
   ]
  },
  {
   "cell_type": "code",
   "execution_count": 15,
   "metadata": {},
   "outputs": [
    {
     "name": "stdout",
     "output_type": "stream",
     "text": [
      "Awesome\n"
     ]
    }
   ],
   "source": [
    "test_dict = {\n",
    "    \"Python\": [5, 7, 7, 7, 7],\n",
    "    \"is\": [6, 7, 7, 7],\n",
    "    \"Awesome\": [9, 9, 6, 5, 5]\n",
    "}\n",
    "\n",
    "max_key = None\n",
    "max_unique_count = 0\n",
    "\n",
    "for key, value_list in test_dict.items():\n",
    "    unique_count = len(set(value_list))  \n",
    "    if unique_count > max_unique_count:\n",
    "        max_unique_count = unique_count\n",
    "        max_key = key\n",
    "\n",
    "print(max_key)"
   ]
  },
  {
   "cell_type": "markdown",
   "metadata": {
    "id": "_S5X6C84dWdJ"
   },
   "source": [
    "### `Q2`: Replace words from Dictionary. Given a string, replace its words using a lookup dictionary.\n",
    "\n",
    "**Example 1:**\n",
    "\n",
    "Input:\n",
    "```bash\n",
    "test_str = 'Python is great for coding beginners.'\n",
    "repl_dict = {\"great\" : \"amazing\", \"coding\" : \"programming\"}\n",
    "```\n",
    "\n",
    "Output:\n",
    "```bash\n",
    "Python is amazing for programming beginners.\n",
    "```\n",
    "\n",
    "**Example 2:**\n",
    "\n",
    "Input:\n",
    "```bash\n",
    "test_str = 'Python is great for coding beginners.'\n",
    "repl_dict = {\"awesome\" : \"amazing\", \"code\" : \"programming\"}\n",
    "```\n",
    "\n",
    "Output:\n",
    "```bash\n",
    "Python is great for coding beginners.\n",
    "```\n",
    "\n",
    "### Explanation:\n",
    "- If a word in the string exists in the `repl_dict`, replace it with the corresponding value from the dictionary.\n",
    "- If a word does not exist in the dictionary, leave it unchanged.\n"
   ]
  },
  {
   "cell_type": "code",
   "execution_count": 16,
   "metadata": {
    "id": "BTAQ8qnrlOxr"
   },
   "outputs": [
    {
     "name": "stdout",
     "output_type": "stream",
     "text": [
      "Python is amazing for programming beginners.\n"
     ]
    }
   ],
   "source": [
    "# write your code here\n",
    "\n",
    "test_str = 'Python is great for coding beginners.'\n",
    "repl_dict = {\"great\": \"amazing\", \"coding\": \"programming\"}\n",
    "\n",
    "words = test_str.split()\n",
    "\n",
    "result = []\n",
    "for word in words:\n",
    "    \n",
    "    stripped_word = word.rstrip('.,!?')  \n",
    "    punct = word[len(stripped_word):]   \n",
    "   \n",
    "    replaced_word = repl_dict.get(stripped_word, stripped_word) + punct\n",
    "    result.append(replaced_word)\n",
    "\n",
    "final_str = ' '.join(result)\n",
    "print(final_str)"
   ]
  },
  {
   "cell_type": "code",
   "execution_count": 17,
   "metadata": {},
   "outputs": [
    {
     "name": "stdout",
     "output_type": "stream",
     "text": [
      "Python is great for coding beginners.\n"
     ]
    }
   ],
   "source": [
    "test_str = 'Python is great for coding beginners.'\n",
    "repl_dict = {\"awesome\": \"amazing\", \"code\": \"programming\"}\n",
    "\n",
    "words = test_str.split()\n",
    "\n",
    "result = []\n",
    "for word in words:\n",
    "    \n",
    "    stripped_word = word.rstrip('.,!?')  \n",
    "    punct = word[len(stripped_word):]   \n",
    "   \n",
    "    replaced_word = repl_dict.get(stripped_word, stripped_word) + punct\n",
    "    result.append(replaced_word)\n",
    "\n",
    "final_str = ' '.join(result)\n",
    "print(final_str)"
   ]
  },
  {
   "cell_type": "markdown",
   "metadata": {
    "id": "55xgap3zfbcR"
   },
   "source": [
    "### `Q3`: Convert List to List of Dictionaries. Given a list of values and a list of keys, convert these values into key-value pairs in the form of a list of dictionaries.\n",
    "\n",
    "**Example 1:**\n",
    "\n",
    "Input:\n",
    "```bash\n",
    "test_list = [\"DataScience\", 3, \"Datasolution\", 8]\n",
    "key_list = [\"name\", \"id\"]\n",
    "```\n",
    "\n",
    "Output:\n",
    "```bash\n",
    "[{'name': 'DataScience', 'id': 3}, {'name': 'Datasolution', 'id': 8}]\n",
    "```\n",
    "\n",
    "**Example 2:**\n",
    "\n",
    "Input:\n",
    "```bash\n",
    "test_list = [\"Python\", 10]\n",
    "key_list = [\"name\", \"id\"]\n",
    "```\n",
    "\n",
    "Output:\n",
    "```bash\n",
    "[{'name': 'Python', 'id': 10}]\n",
    "```"
   ]
  },
  {
   "cell_type": "code",
   "execution_count": 18,
   "metadata": {
    "id": "jbCajI87lQFr"
   },
   "outputs": [
    {
     "name": "stdout",
     "output_type": "stream",
     "text": [
      "[{'name': 'DataScience', 'id': 3}, {'name': 'Datasolution', 'id': 8}]\n"
     ]
    }
   ],
   "source": [
    "# write your code here\n",
    "\n",
    "test_list = [\"DataScience\", 3, \"Datasolution\", 8]\n",
    "key_list = [\"name\", \"id\"]\n",
    "\n",
    "result = []\n",
    "\n",
    "for i in range(0, len(test_list), len(key_list)):\n",
    "    chunk = test_list[i:i + len(key_list)]\n",
    "    if len(chunk) == len(key_list):  \n",
    "        result.append(dict(zip(key_list, chunk)))\n",
    "\n",
    "print(result)"
   ]
  },
  {
   "cell_type": "code",
   "execution_count": 19,
   "metadata": {},
   "outputs": [
    {
     "name": "stdout",
     "output_type": "stream",
     "text": [
      "[{'name': 'Python', 'id': 10}]\n"
     ]
    }
   ],
   "source": [
    "test_list = [\"Python\", 10]\n",
    "key_list = [\"name\", \"id\"]\n",
    "\n",
    "result = []\n",
    "\n",
    "for i in range(0, len(test_list), len(key_list)):\n",
    "    chunk = test_list[i:i + len(key_list)]\n",
    "    if len(chunk) == len(key_list):  \n",
    "        result.append(dict(zip(key_list, chunk)))\n",
    "\n",
    "print(result)"
   ]
  },
  {
   "cell_type": "markdown",
   "metadata": {
    "id": "5RxBlLQahLkB"
   },
   "source": [
    "### `Q4`: Convert a list of Tuples into Dictionary.\n",
    "\n",
    "**Example 1:**\n",
    "\n",
    "Input:\n",
    "```bash\n",
    "[(\"Rahim\", 10), (\"Karim\", 12), (\"Sadia\", 14), (\"Tania\", 20), (\"Fahim\", 25), (\"Nadia\", 30)]\n",
    "```\n",
    "\n",
    "Output:\n",
    "```bash\n",
    "{'Rahim': [10], 'Karim': [12], 'Sadia': [14], 'Tania': [20], 'Fahim': [25], 'Nadia': [30]}\n",
    "```\n",
    "\n",
    "**Example 2:**\n",
    "\n",
    "Input:\n",
    "```bash\n",
    "[('Ayan', 1), ('Bina', 2), ('Celia', 3)]\n",
    "```\n",
    "\n",
    "Output:\n",
    "```bash\n",
    "{'Ayan': [1], 'Bina': [2], 'Celia': [3]}\n",
    "```"
   ]
  },
  {
   "cell_type": "code",
   "execution_count": 20,
   "metadata": {
    "id": "f1yz7inMlQ5N"
   },
   "outputs": [
    {
     "name": "stdout",
     "output_type": "stream",
     "text": [
      "{'Rahim': [10], 'Karim': [12], 'Sadia': [14], 'Tania': [20], 'Fahim': [25], 'Nadia': [30]}\n"
     ]
    }
   ],
   "source": [
    "# write your code here\n",
    "\n",
    "tuples_list = [(\"Rahim\", 10), (\"Karim\", 12), (\"Sadia\", 14), (\"Tania\", 20), (\"Fahim\", 25), (\"Nadia\", 30)]\n",
    "\n",
    "result = {key: [value] for key, value in tuples_list}\n",
    "\n",
    "print(result)"
   ]
  },
  {
   "cell_type": "code",
   "execution_count": 22,
   "metadata": {},
   "outputs": [
    {
     "name": "stdout",
     "output_type": "stream",
     "text": [
      "{'Ayan': [1], 'Bina': [2], 'Celia': [3]}\n"
     ]
    }
   ],
   "source": [
    "tuples_list = [('Ayan', 1), ('Bina', 2), ('Celia', 3)]\n",
    "\n",
    "result = {key: [value] for key, value in tuples_list}\n",
    "\n",
    "print(result)"
   ]
  },
  {
   "cell_type": "markdown",
   "metadata": {
    "id": "Fz8EzJD-kBkS"
   },
   "source": [
    "### `Q5`: Sort Dictionary key and values List.\n",
    "\n",
    "**Example 1:**\n",
    "\n",
    "Input:\n",
    "\n",
    "```bash\n",
    "{'c': [3], 'b': [12, 10], 'a': [19, 4]}\n",
    "```\n",
    "\n",
    "Output:\n",
    "\n",
    "```bash\n",
    "{'a': [4, 19], 'b': [10, 12], 'c': [3]}\n",
    "```\n",
    "\n",
    "**Example 2:**\n",
    "\n",
    "Input:\n",
    "\n",
    "```bash\n",
    "{'c': [10, 34, 3]}\n",
    "```\n",
    "\n",
    "Output:\n",
    "\n",
    "```bash\n",
    "{'c': [3, 10, 34]}\n",
    "```"
   ]
  },
  {
   "cell_type": "code",
   "execution_count": 23,
   "metadata": {
    "id": "x9UmJ4EQk7Pp"
   },
   "outputs": [
    {
     "name": "stdout",
     "output_type": "stream",
     "text": [
      "{'a': [4, 19], 'b': [10, 12], 'c': [3]}\n"
     ]
    }
   ],
   "source": [
    "# write your code here\n",
    "test_dict = {'c': [3], 'b': [12, 10], 'a': [19, 4]}\n",
    "\n",
    "sorted_dict = {k: sorted(v) for k, v in sorted(test_dict.items())}\n",
    "\n",
    "print(sorted_dict)"
   ]
  },
  {
   "cell_type": "code",
   "execution_count": 24,
   "metadata": {},
   "outputs": [
    {
     "name": "stdout",
     "output_type": "stream",
     "text": [
      "{'c': [3, 10, 34]}\n"
     ]
    }
   ],
   "source": [
    "test_dict = {'c': [10, 34, 3]}\n",
    "\n",
    "sorted_dict = {k: sorted(v) for k, v in sorted(test_dict.items())}\n",
    "\n",
    "print(sorted_dict)"
   ]
  },
  {
   "cell_type": "markdown",
   "metadata": {},
   "source": [
    "## Solved by Md. Iktiyar Hossain"
   ]
  },
  {
   "cell_type": "code",
   "execution_count": null,
   "metadata": {},
   "outputs": [],
   "source": []
  }
 ],
 "metadata": {
  "colab": {
   "provenance": []
  },
  "kernelspec": {
   "display_name": "Python 3 (ipykernel)",
   "language": "python",
   "name": "python3"
  },
  "language_info": {
   "codemirror_mode": {
    "name": "ipython",
    "version": 3
   },
   "file_extension": ".py",
   "mimetype": "text/x-python",
   "name": "python",
   "nbconvert_exporter": "python",
   "pygments_lexer": "ipython3",
   "version": "3.11.3"
  }
 },
 "nbformat": 4,
 "nbformat_minor": 1
}
