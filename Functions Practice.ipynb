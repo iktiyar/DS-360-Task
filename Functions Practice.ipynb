{
 "cells": [
  {
   "cell_type": "markdown",
   "metadata": {
    "id": "h6dDSW5XGZFi"
   },
   "source": [
    "### **`Problem-1:`** Write a Python function that takes a list and returns a new list with unique elements of the first list.\n",
    "\n",
    "**Exercise 1:**\n",
    "\n",
    "Input:\n",
    "\n",
    "```bash\n",
    "[1,2,3,3,3,3,4,5]\n",
    "```\n",
    "\n",
    "Output:\n",
    "\n",
    "```bash\n",
    "[1, 2, 3, 4, 5]\n",
    "```"
   ]
  },
  {
   "cell_type": "code",
   "execution_count": 1,
   "metadata": {
    "id": "R5pq1C9LGe1y"
   },
   "outputs": [
    {
     "name": "stdout",
     "output_type": "stream",
     "text": [
      "[1, 2, 3, 4, 5]\n"
     ]
    }
   ],
   "source": [
    "def unique_elements(input_list):\n",
    "    unique = []\n",
    "    for item in input_list:\n",
    "        if item not in unique:\n",
    "            unique.append(item)\n",
    "    return unique\n",
    "\n",
    "# Example usage:\n",
    "input_data = [1, 2, 3, 3, 3, 3, 4, 5]\n",
    "output = unique_elements(input_data)\n",
    "print(output)"
   ]
  },
  {
   "cell_type": "markdown",
   "metadata": {
    "id": "UxQ_VoyJGwHj"
   },
   "source": [
    "### **`Problem-2:`** Write a Python function that accepts a hyphen-separated sequence of words as parameter and returns the words in a hyphen-separated sequence after sorting them alphabetically.\n",
    "\n",
    "**Example 1:**\n",
    "\n",
    "Input:\n",
    "```bash\n",
    "green-red-yellow-black-white\n",
    "```\n",
    "\n",
    "Output:\n",
    "```bash\n",
    "black-green-red-white-yellow\n",
    "```"
   ]
  },
  {
   "cell_type": "code",
   "execution_count": 2,
   "metadata": {
    "id": "AAts2m5zGwiQ"
   },
   "outputs": [
    {
     "name": "stdout",
     "output_type": "stream",
     "text": [
      "black-green-red-white-yellow\n"
     ]
    }
   ],
   "source": [
    "# Write code here\n",
    "def sort_sequence(sequence):\n",
    "    words = sequence.split('-')          \n",
    "    words.sort()                         \n",
    "    return '-'.join(words)               \n",
    "\n",
    "input_data = \"green-red-yellow-black-white\"\n",
    "output = sort_sequence(input_data)\n",
    "print(output)"
   ]
  },
  {
   "cell_type": "markdown",
   "metadata": {
    "id": "IRGH62S7Gx_n"
   },
   "source": [
    "Got it! Here's the modified question **without \"CampusX\"** and with a more generic example:\n",
    "\n",
    "---\n",
    "\n",
    "### **`Problem 3:`** Write a Python function that counts uppercase and lowercase letters in a string.\n",
    "\n",
    "**Sample Input:**  \n",
    "```python\n",
    "'The Quick Brown Fox Jumps Over The Lazy Dog.'\n",
    "```\n",
    "\n",
    "**Expected Output:**  \n",
    "```\n",
    "No. of Upper case characters: 8  \n",
    "No. of Lower case characters: 26\n",
    "```"
   ]
  },
  {
   "cell_type": "code",
   "execution_count": 3,
   "metadata": {
    "id": "OaUrD8vVG5o8"
   },
   "outputs": [
    {
     "name": "stdout",
     "output_type": "stream",
     "text": [
      "No. of Upper case characters: 9\n",
      "No. of Lower case characters: 26\n"
     ]
    }
   ],
   "source": [
    "# Write code here\n",
    "def count_letters(s):\n",
    "    upper_count = 0\n",
    "    lower_count = 0\n",
    "    for char in s:\n",
    "        if char.isupper():\n",
    "            upper_count += 1\n",
    "        elif char.islower():\n",
    "            lower_count += 1\n",
    "    print(\"No. of Upper case characters:\", upper_count)\n",
    "    print(\"No. of Lower case characters:\", lower_count)\n",
    "\n",
    "input_string = 'The Quick Brown Fox Jumps Over The Lazy Dog.'\n",
    "count_letters(input_string)"
   ]
  },
  {
   "cell_type": "markdown",
   "metadata": {
    "id": "V1BFFdYQG7Sn"
   },
   "source": [
    "### **`Problem 4:`** Write a Python program to print the even numbers from a given list.\n",
    "```\n",
    "Sample List : [1, 2, 3, 4, 5, 6, 7, 8, 9]\n",
    "Expected Result : [2, 4, 6, 8]\n",
    "```"
   ]
  },
  {
   "cell_type": "code",
   "execution_count": 4,
   "metadata": {
    "id": "VvAReLoDG_Z3"
   },
   "outputs": [
    {
     "name": "stdout",
     "output_type": "stream",
     "text": [
      "[2, 4, 6, 8]\n"
     ]
    }
   ],
   "source": [
    "# Write code here\n",
    "def even_numbers(numbers):\n",
    "    even_numbers = [num for num in numbers if num % 2 == 0]\n",
    "    return even_numbers\n",
    "\n",
    "sample_list = [1, 2, 3, 4, 5, 6, 7, 8, 9]\n",
    "result = even_numbers(sample_list)\n",
    "print(result)"
   ]
  },
  {
   "cell_type": "markdown",
   "metadata": {
    "id": "qrK39Gn-HHb4"
   },
   "source": [
    "### **`Problem 5:`** Write a Python function to check whether a number is perfect or not.\n",
    "\n",
    "A Perfect number is a number that is half the sum of all of its positive divisors (including itself).\n",
    "\n",
    "Example :\n",
    "\n",
    "```\n",
    "The first perfect number is 6, because 1, 2, and 3 are its proper positive divisors, and 1 + 2 + 3 = 6.\n",
    "Equivalently, the number 6 is equal to half the sum of all its positive divisors: ( 1 + 2 + 3 + 6 ) / 2 = 6.\n",
    "\n",
    "The next perfect number is 28 = 1 + 2 + 4 + 7 + 14. This is followed by the perfect numbers 496 and 8128.\n",
    "```\n"
   ]
  },
  {
   "cell_type": "code",
   "execution_count": 6,
   "metadata": {
    "id": "P-OI7H78HICs"
   },
   "outputs": [
    {
     "name": "stdout",
     "output_type": "stream",
     "text": [
      "6 is perfect: True\n",
      "28 is perfect: True\n",
      "496 is perfect: True\n",
      "8128 is perfect: True\n",
      "10 is perfect: False\n"
     ]
    }
   ],
   "source": [
    "# Write code here\n",
    "def perfect_number(n):\n",
    "    if n < 2:\n",
    "        return False  \n",
    "    divisors = [i for i in range(1, n) if n % i == 0]\n",
    "    return sum(divisors) == n\n",
    "\n",
    "for num in [6, 28, 496, 8128, 10]:\n",
    "    print(f\"{num} is perfect: {perfect_number(num)}\")"
   ]
  },
  {
   "cell_type": "markdown",
   "metadata": {
    "id": "oZdpcG77HO-6"
   },
   "source": [
    "### **`Problem-6:`** Write a Python function to concatenate any no of dictionaries to create a new one.\n",
    "\n",
    "```\n",
    "Sample Dictionary :\n",
    "dic1={1:10, 2:20}\n",
    "dic2={3:30, 4:40}\n",
    "dic3={5:50,6:60}\n",
    "Expected Result : {1: 10, 2: 20, 3: 30, 4: 40, 5: 50, 6: 60}\n",
    "```"
   ]
  },
  {
   "cell_type": "code",
   "execution_count": 7,
   "metadata": {
    "id": "LQgfAY4ZHPhj"
   },
   "outputs": [
    {
     "name": "stdout",
     "output_type": "stream",
     "text": [
      "{1: 10, 2: 20, 3: 30, 4: 40, 5: 50, 6: 60}\n"
     ]
    }
   ],
   "source": [
    "# Write code here\n",
    "def combine_dicts(*dicts):\n",
    "    result = {}\n",
    "    for d in dicts:\n",
    "        result.update(d)\n",
    "    return result\n",
    "\n",
    "# Example usage:\n",
    "dic1 = {1: 10, 2: 20}\n",
    "dic2 = {3: 30, 4: 40}\n",
    "dic3 = {5: 50, 6: 60}\n",
    "\n",
    "combined = combine_dicts(dic1, dic2, dic3)\n",
    "print(combined)"
   ]
  },
  {
   "cell_type": "markdown",
   "metadata": {
    "id": "jQ6SzbCkHRd0"
   },
   "source": [
    "### `Problem-7` Write a python function that accepts a string as input and returns the word with most occurence.\n",
    "\n",
    "```\n",
    "Input:\n",
    "hello how are you i am fine thank you\n",
    "```\n",
    "\n",
    "```\n",
    "Output\n",
    "you -> 2\n",
    "```"
   ]
  },
  {
   "cell_type": "code",
   "execution_count": 11,
   "metadata": {
    "id": "Lh04JHLzIW7Z"
   },
   "outputs": [
    {
     "name": "stdout",
     "output_type": "stream",
     "text": [
      "you -> 2\n"
     ]
    }
   ],
   "source": [
    "# Write code here\n",
    "def most_frequent_word(text):\n",
    "    words = text.split()\n",
    "    word_counts = {}\n",
    "    \n",
    "    for word in words:\n",
    "        word_counts[word] = word_counts.get(word, 0) + 1\n",
    "    \n",
    "    max_word = max(word_counts, key=word_counts.get)\n",
    "    max_count = word_counts[max_word]\n",
    "    \n",
    "    return f\"{max_word} -> {max_count}\"\n",
    "\n",
    "input_text = \"hello how are you i am fine thank you\"\n",
    "print(most_frequent_word(input_text))"
   ]
  },
  {
   "cell_type": "markdown",
   "metadata": {
    "id": "G26SYq6vqdLN"
   },
   "source": [
    "###`Problem-8` Using filter() and list() functions and .lower() method filter all the vowels in a given string.\n",
    "\n"
   ]
  },
  {
   "cell_type": "code",
   "execution_count": 12,
   "metadata": {
    "id": "zurga3DIqmEx"
   },
   "outputs": [
    {
     "name": "stdout",
     "output_type": "stream",
     "text": [
      "['e', 'o', 'o']\n"
     ]
    }
   ],
   "source": [
    "# Write code here\n",
    "def filter_vowels(input_str):\n",
    "    vowels = 'aeiou'\n",
    "    return list(filter(lambda char: char.lower() in vowels, input_str))\n",
    "\n",
    "text = \"Hello World\"\n",
    "result = filter_vowels(text)\n",
    "print(result)"
   ]
  },
  {
   "cell_type": "markdown",
   "metadata": {
    "id": "uQrsunZSqoYu"
   },
   "source": [
    "`Problem-9`: Use reduce to convert a 2D list to 1D"
   ]
  },
  {
   "cell_type": "code",
   "execution_count": 14,
   "metadata": {
    "id": "E1YUwnfgqnka"
   },
   "outputs": [
    {
     "name": "stdout",
     "output_type": "stream",
     "text": [
      "[1, 2, 3, 4, 5, 6]\n"
     ]
    }
   ],
   "source": [
    "# Write code here\n",
    "from functools import reduce\n",
    "import operator\n",
    "\n",
    "def reduce_2d_list(two_d_list):\n",
    "    return reduce(operator.add, two_d_list)\n",
    "\n",
    "nested_list = [[1, 2], [3, 4], [5, 6]]\n",
    "flattened = reduce_2d_list(nested_list)\n",
    "print(flattened)"
   ]
  },
  {
   "cell_type": "markdown",
   "metadata": {
    "id": "8-DLQEawt-_t"
   },
   "source": [
    "`Problem 10`- A dictionary contains following information about 5 employees:\n",
    "- First name\n",
    "- Last name\n",
    "- Age\n",
    "- Grade(Skilled,Semi-skilled,Highly skilled)<br>\n",
    "Write a program using map/filter/reduce to a list of employees(first name + last name) who are highly skilled"
   ]
  },
  {
   "cell_type": "code",
   "execution_count": 16,
   "metadata": {
    "id": "OLvptttLs6OU"
   },
   "outputs": [
    {
     "name": "stdout",
     "output_type": "stream",
     "text": [
      "['Abrir Saidi', 'Iktiyar Hossain']\n"
     ]
    }
   ],
   "source": [
    "# Write code here\n",
    "employees = [\n",
    "    {'First name': 'Parvej', 'Last name': 'Ahmed', 'Age': 28, 'Grade': 'Skilled'},\n",
    "    {'First name': 'Abrir', 'Last name': 'Saidi', 'Age': 32, 'Grade': 'Highly skilled'},\n",
    "    {'First name': 'Zahid', 'Last name': 'Hasan', 'Age': 25, 'Grade': 'Semi-skilled'},\n",
    "    {'First name': 'Iktiyar', 'Last name': 'Hossain', 'Age': 40, 'Grade': 'Highly skilled'},\n",
    "    {'First name': 'Mynul', 'Last name': 'Haque', 'Age': 30, 'Grade': 'Skilled'}\n",
    "]\n",
    "\n",
    "highly_skilled = filter(lambda emp: emp['Grade'] == 'Highly skilled', employees)\n",
    "\n",
    "full_names = map(lambda emp: emp['First name'] + \" \" + emp['Last name'], highly_skilled)\n",
    "\n",
    "result = list(full_names)\n",
    "\n",
    "print(result)\n"
   ]
  },
  {
   "cell_type": "markdown",
   "metadata": {},
   "source": [
    "### Solved by Md. Iktiyar Hossain"
   ]
  },
  {
   "cell_type": "code",
   "execution_count": null,
   "metadata": {},
   "outputs": [],
   "source": []
  }
 ],
 "metadata": {
  "colab": {
   "provenance": []
  },
  "kernelspec": {
   "display_name": "Python 3 (ipykernel)",
   "language": "python",
   "name": "python3"
  },
  "language_info": {
   "codemirror_mode": {
    "name": "ipython",
    "version": 3
   },
   "file_extension": ".py",
   "mimetype": "text/x-python",
   "name": "python",
   "nbconvert_exporter": "python",
   "pygments_lexer": "ipython3",
   "version": "3.11.3"
  }
 },
 "nbformat": 4,
 "nbformat_minor": 1
}
