{
 "cells": [
  {
   "cell_type": "markdown",
   "metadata": {
    "id": "5vEpPh8C2pE4"
   },
   "source": [
    "### `Problem 1`: Write a program that will take user input of cost price and selling price and determines whether its a loss or a profit."
   ]
  },
  {
   "cell_type": "code",
   "execution_count": 1,
   "metadata": {
    "id": "jDwBXlkO2sfl"
   },
   "outputs": [
    {
     "name": "stdout",
     "output_type": "stream",
     "text": [
      "Enter Cost Price:7\n",
      "Enter Cost Price:9\n",
      "Profit\n"
     ]
    }
   ],
   "source": [
    "# Write code here\n",
    "cost_price = float(input(\"Enter Cost Price:\", ))\n",
    "sold_price = float(input(\"Enter Cost Price:\", ))  \n",
    "def loss_or_profit(cost_price,sold_price):\n",
    "    if cost_price > sold_price:\n",
    "        print(\"Loss !!!\")\n",
    "    elif cost_price==sold_price:\n",
    "        print(\"No Profit or Loss\")\n",
    "    else:\n",
    "        print(\"Profit\")\n",
    "loss_or_profit(cost_price,sold_price) "
   ]
  },
  {
   "cell_type": "markdown",
   "metadata": {
    "id": "J_FG_cJW2ugT"
   },
   "source": [
    "### `Problem 2`: Write a menu-driven program -\n",
    "1. cm to ft\n",
    "2. km to miles\n",
    "3. USD to INR\n",
    "4. exit"
   ]
  },
  {
   "cell_type": "code",
   "execution_count": 42,
   "metadata": {
    "id": "yBHhaCGQ2zpD",
    "scrolled": true
   },
   "outputs": [
    {
     "name": "stdout",
     "output_type": "stream",
     "text": [
      "\n",
      "Conversion Menu:\n",
      "1. Centimeter to Feet\n",
      "2. Kilometer to Miles\n",
      "3. USD to INR\n",
      "4. Exit\n",
      "Enter your choice (1-4): 2\n",
      "Enter distance in km: 56\n",
      "56.0 km = 34.80 miles\n",
      "\n",
      "Conversion Menu:\n",
      "1. Centimeter to Feet\n",
      "2. Kilometer to Miles\n",
      "3. USD to INR\n",
      "4. Exit\n",
      "Enter your choice (1-4): 4\n",
      "Exiting program. Goodbye!\n"
     ]
    }
   ],
   "source": [
    "# Write code here\n",
    "def cm_to_ft(cm):\n",
    "    return cm / 30.48\n",
    "\n",
    "def km_to_miles(km):\n",
    "    return km * 0.621371\n",
    "\n",
    "def usd_to_inr(usd):\n",
    "    conversion_rate = 83.2  \n",
    "    return usd * conversion_rate\n",
    "\n",
    "while True:\n",
    "    print(\"\\nConversion Menu:\")\n",
    "    print(\"1. Centimeter to Feet\")\n",
    "    print(\"2. Kilometer to Miles\")\n",
    "    print(\"3. USD to INR\")\n",
    "    print(\"4. Exit\")\n",
    "\n",
    "    choice = input(\"Enter your choice (1-4): \")\n",
    "\n",
    "    if choice == '1':\n",
    "        cm = float(input(\"Enter length in cm: \"))\n",
    "        print(f\"{cm} cm = {cm_to_ft(cm):.2f} feet\")\n",
    "\n",
    "    elif choice == '2':\n",
    "        km = float(input(\"Enter distance in km: \"))\n",
    "        print(f\"{km} km = {km_to_miles(km):.2f} miles\")\n",
    "\n",
    "    elif choice == '3':\n",
    "        usd = float(input(\"Enter amount in USD: \"))\n",
    "        print(f\"{usd} USD = {usd_to_inr(usd):.2f} INR\")\n",
    "\n",
    "    elif choice == '4':\n",
    "        print(\"Exiting program. Goodbye!\")\n",
    "        break\n",
    "\n",
    "    else:\n",
    "        print(\"Invalid choice. Please enter a number between 1 and 4.\")\n"
   ]
  },
  {
   "cell_type": "markdown",
   "metadata": {
    "id": "LJJ30_Yw27ZU"
   },
   "source": [
    "### `Problem 3` -  Display Fibonacci series up to 10 terms.\n",
    "\n",
    "*Note: The Fibonacci Sequence is a series of numbers. The next number is found by adding up the two numbers before it. The first two numbers are 0 and 1. For example, 0, 1, 1, 2, 3, 5, 8, 13, 21. The next number in this series above is 13+21 = 34*"
   ]
  },
  {
   "cell_type": "code",
   "execution_count": 10,
   "metadata": {
    "id": "ae_1rpe52-5R"
   },
   "outputs": [
    {
     "name": "stdout",
     "output_type": "stream",
     "text": [
      "[0, 1, 1, 2, 3, 5, 8, 13, 21, 34]\n"
     ]
    }
   ],
   "source": [
    "# Write code here\n",
    "fib = [0,1]\n",
    "for i in range(8):\n",
    "    fib.append(fib[i]+fib[i+1])\n",
    "print(fib)"
   ]
  },
  {
   "cell_type": "markdown",
   "metadata": {
    "id": "pk_I_S4m3PT5"
   },
   "source": [
    "### `Problem 4` - Find the factorial of a given number.\n",
    "\n",
    "Write a program to use the loop to find the factorial of a given number.\n",
    "\n",
    "The factorial (symbol: `!`) means to multiply all whole numbers from the chosen number down to 1.\n",
    "\n",
    "For example: calculate the factorial of 5\n",
    "\n",
    "```bash\n",
    "5! = 5 × 4 × 3 × 2 × 1 = 120\n",
    "```\n",
    "\n",
    "Output:\n",
    "\n",
    "```bash\n",
    "120\n",
    "```"
   ]
  },
  {
   "cell_type": "code",
   "execution_count": 17,
   "metadata": {
    "id": "lzXxHegx3Rkc"
   },
   "outputs": [
    {
     "data": {
      "text/plain": [
       "120"
      ]
     },
     "execution_count": 17,
     "metadata": {},
     "output_type": "execute_result"
    }
   ],
   "source": [
    "# Write code here\n",
    "factorial = 1\n",
    "for i in range(1,6):\n",
    "    factorial *= i\n",
    "factorial"
   ]
  },
  {
   "cell_type": "markdown",
   "metadata": {
    "id": "-17IOi-g3UpU"
   },
   "source": [
    "### `Problem 5` - Reverse a given integer number.\n",
    "\n",
    "Example:\n",
    "\n",
    "`Input:`\n",
    "\n",
    "```bash\n",
    "76542\n",
    "```\n",
    "\n",
    "`Output:`\n",
    "\n",
    "```bash\n",
    "24567\n",
    "```"
   ]
  },
  {
   "cell_type": "code",
   "execution_count": 29,
   "metadata": {
    "id": "wJwLpKCr3aVA"
   },
   "outputs": [
    {
     "name": "stdout",
     "output_type": "stream",
     "text": [
      "Enter a number:768\n"
     ]
    },
    {
     "data": {
      "text/plain": [
       "867"
      ]
     },
     "execution_count": 29,
     "metadata": {},
     "output_type": "execute_result"
    }
   ],
   "source": [
    "# Write code here\n",
    "i = input(\"Enter a number:\")\n",
    "o = int(''.join(reversed(str(i))))\n",
    "o"
   ]
  },
  {
   "cell_type": "markdown",
   "metadata": {
    "id": "-t8PJQaY3sHf"
   },
   "source": [
    "### `Problem 6`: Take a user input as integer N. Find out the sum from 1 to N. If any number if divisible by 5, then skip that number. And if the sum is greater than 300, don't need to calculate the sum further more. Print the final result. And don't use for loop to solve this problem.\n",
    "\n",
    "**Example 1:**\n",
    "\n",
    "`Input:`\n",
    "\n",
    "```bash\n",
    "30\n",
    "```\n",
    "\n",
    "`Output:`\n",
    "\n",
    "```bash\n",
    "276\n",
    "```"
   ]
  },
  {
   "cell_type": "code",
   "execution_count": 36,
   "metadata": {
    "id": "GZB6mGMP3ujT"
   },
   "outputs": [
    {
     "name": "stdout",
     "output_type": "stream",
     "text": [
      "Enter a number: 78\n",
      "Final sum: 303\n"
     ]
    }
   ],
   "source": [
    "# Write code here\n",
    "N = int(input(\"Enter a number: \"))\n",
    "total = 0\n",
    "i = 1\n",
    "while i <= N:\n",
    "    if i % 5 == 0:\n",
    "        i += 1\n",
    "        continue\n",
    "    total += i\n",
    "    if total > 300:\n",
    "        break\n",
    "    i += 1\n",
    "print(\"Final sum:\", total)"
   ]
  },
  {
   "cell_type": "markdown",
   "metadata": {
    "id": "Q7ggImeA3xm4"
   },
   "source": [
    "### `Problem 7`: Write a program that keeps on accepting a number from the user until the user enters Zero. Display the sum and average of all the numbers."
   ]
  },
  {
   "cell_type": "code",
   "execution_count": 37,
   "metadata": {
    "id": "t_YDSZDe4Kdo"
   },
   "outputs": [
    {
     "name": "stdout",
     "output_type": "stream",
     "text": [
      "Enter a number (0 to stop): 8\n",
      "Enter a number (0 to stop): 9\n",
      "Enter a number (0 to stop): 3\n",
      "Enter a number (0 to stop): 1\n",
      "Enter a number (0 to stop): 0\n",
      "Sum of numbers: 21.0\n",
      "Average of numbers: 5.25\n"
     ]
    }
   ],
   "source": [
    "# Write code here\n",
    "total = 0\n",
    "count = 0\n",
    "while True:\n",
    "    num = float(input(\"Enter a number (0 to stop): \"))\n",
    "    if num == 0:\n",
    "        break\n",
    "    total += num\n",
    "    count += 1\n",
    "if count > 0:\n",
    "    average = total / count\n",
    "else:\n",
    "    average = 0\n",
    "print(\"Sum of numbers:\", total)\n",
    "print(\"Average of numbers:\", average)"
   ]
  },
  {
   "cell_type": "markdown",
   "metadata": {
    "id": "6EhvEMvm4R7s"
   },
   "source": [
    "### `Problem 8`: Write a program which will find all such numbers which are divisible by 7 but are not a multiple of 5, between 2000 and 3200 (both included). The numbers obtained should be printed in a comma-separated sequence on a single line."
   ]
  },
  {
   "cell_type": "code",
   "execution_count": 38,
   "metadata": {
    "id": "d6RgP1B34T6c"
   },
   "outputs": [
    {
     "name": "stdout",
     "output_type": "stream",
     "text": [
      "2002,2009,2016,2023,2037,2044,2051,2058,2072,2079,2086,2093,2107,2114,2121,2128,2142,2149,2156,2163,2177,2184,2191,2198,2212,2219,2226,2233,2247,2254,2261,2268,2282,2289,2296,2303,2317,2324,2331,2338,2352,2359,2366,2373,2387,2394,2401,2408,2422,2429,2436,2443,2457,2464,2471,2478,2492,2499,2506,2513,2527,2534,2541,2548,2562,2569,2576,2583,2597,2604,2611,2618,2632,2639,2646,2653,2667,2674,2681,2688,2702,2709,2716,2723,2737,2744,2751,2758,2772,2779,2786,2793,2807,2814,2821,2828,2842,2849,2856,2863,2877,2884,2891,2898,2912,2919,2926,2933,2947,2954,2961,2968,2982,2989,2996,3003,3017,3024,3031,3038,3052,3059,3066,3073,3087,3094,3101,3108,3122,3129,3136,3143,3157,3164,3171,3178,3192,3199\n"
     ]
    }
   ],
   "source": [
    "# Write code here\n",
    "result = [str(i) for i in range(2000, 3201) if i % 7 == 0 and i % 5 != 0]\n",
    "output = \",\".join(result)\n",
    "print(output)"
   ]
  },
  {
   "cell_type": "markdown",
   "metadata": {
    "id": "tYvmRR-G4Vp4"
   },
   "source": [
    "### `Problem 9`: Write a program, which will find all such numbers between 1000 and 3000 (both included) such that each digit of the number is an even number. The numbers obtained should be printed in a space-separated sequence on a single line.\n",
    "\n"
   ]
  },
  {
   "cell_type": "code",
   "execution_count": 39,
   "metadata": {
    "id": "k6Gs1kIf4k19"
   },
   "outputs": [
    {
     "name": "stdout",
     "output_type": "stream",
     "text": [
      "2000 2002 2004 2006 2008 2020 2022 2024 2026 2028 2040 2042 2044 2046 2048 2060 2062 2064 2066 2068 2080 2082 2084 2086 2088 2200 2202 2204 2206 2208 2220 2222 2224 2226 2228 2240 2242 2244 2246 2248 2260 2262 2264 2266 2268 2280 2282 2284 2286 2288 2400 2402 2404 2406 2408 2420 2422 2424 2426 2428 2440 2442 2444 2446 2448 2460 2462 2464 2466 2468 2480 2482 2484 2486 2488 2600 2602 2604 2606 2608 2620 2622 2624 2626 2628 2640 2642 2644 2646 2648 2660 2662 2664 2666 2668 2680 2682 2684 2686 2688 2800 2802 2804 2806 2808 2820 2822 2824 2826 2828 2840 2842 2844 2846 2848 2860 2862 2864 2866 2868 2880 2882 2884 2886 2888\n"
     ]
    }
   ],
   "source": [
    "# Write code here\n",
    "result = []\n",
    "for i in range(1000, 3001):\n",
    "    digits = str(i)\n",
    "    if all(int(d) % 2 == 0 for d in digits):\n",
    "        result.append(digits)\n",
    "print(\" \".join(result))"
   ]
  },
  {
   "cell_type": "markdown",
   "metadata": {
    "id": "3fsAIAhK5GYY"
   },
   "source": [
    "### `Problem 10`:Write a program to print whether a given number is a prime number or not"
   ]
  },
  {
   "cell_type": "code",
   "execution_count": 40,
   "metadata": {
    "id": "j6y91lxy5LZs"
   },
   "outputs": [
    {
     "name": "stdout",
     "output_type": "stream",
     "text": [
      "Enter a number: 7\n",
      "7 is a prime number.\n"
     ]
    }
   ],
   "source": [
    "# Write code here\n",
    "num = int(input(\"Enter a number: \"))\n",
    "if num <= 1:\n",
    "    print(num, \"is not a prime number.\")\n",
    "else:\n",
    "    is_prime = True\n",
    "    for i in range(2, int(num ** 0.5) + 1):\n",
    "        if num % i == 0:\n",
    "            is_prime = False\n",
    "            break\n",
    "    if is_prime:\n",
    "        print(num, \"is a prime number.\")\n",
    "    else:\n",
    "        print(num, \"is not a prime number.\")\n"
   ]
  },
  {
   "cell_type": "markdown",
   "metadata": {},
   "source": [
    "### Solved by Md. Iktiyar Hossain"
   ]
  }
 ],
 "metadata": {
  "colab": {
   "provenance": []
  },
  "kernelspec": {
   "display_name": "Python 3 (ipykernel)",
   "language": "python",
   "name": "python3"
  },
  "language_info": {
   "codemirror_mode": {
    "name": "ipython",
    "version": 3
   },
   "file_extension": ".py",
   "mimetype": "text/x-python",
   "name": "python",
   "nbconvert_exporter": "python",
   "pygments_lexer": "ipython3",
   "version": "3.11.3"
  }
 },
 "nbformat": 4,
 "nbformat_minor": 1
}
